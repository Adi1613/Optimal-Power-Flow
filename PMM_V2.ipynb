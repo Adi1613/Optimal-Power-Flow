{
 "cells": [
  {
   "cell_type": "markdown",
   "metadata": {},
   "source": [
    "# PMM Modeling"
   ]
  },
  {
   "cell_type": "markdown",
   "metadata": {},
   "source": [
    "##  *Model*"
   ]
  },
  {
   "cell_type": "markdown",
   "metadata": {},
   "source": [
    "## Objective\n",
    "\n",
    "### Mininmizing the overall system cost "
   ]
  },
  {
   "cell_type": "code",
   "execution_count": 11,
   "metadata": {},
   "outputs": [],
   "source": [
    "from pyomo.environ import *\n",
    "#import pyomo.environ as aml\n",
    "import data1\n",
    "\n",
    "model = ConcreteModel()\n",
    "\n",
    "model.x = Var(data1.N, within=NonNegativeReals)\n",
    "model.y = Var(data1.M, within=Reals)\n",
    "\n",
    "\n",
    "\n",
    "def obj_rule(model):\n",
    "    return sum(data1.cost_1[i]*model.x[i] + data1.cost_2[i]*model.x[i] for i in data1.N) + sum(data1.cost_of_transmission[j]*model.y[j] for j in data1.M)\n",
    "           \n",
    "model.obj = Objective(rule=obj_rule,sense =1)"
   ]
  },
  {
   "cell_type": "markdown",
   "metadata": {},
   "source": [
    "### *Constraints*"
   ]
  },
  {
   "cell_type": "code",
   "execution_count": 12,
   "metadata": {},
   "outputs": [
    {
     "name": "stdout",
     "output_type": "stream",
     "text": [
      "WARNING: DEPRECATED: Chained inequalities are deprecated. Use the inequality()\n",
      "    function to express ranged inequality expressions.\n",
      "WARNING: DEPRECATED: Chained inequalities are deprecated. Use the inequality()\n",
      "    function to express ranged inequality expressions.\n",
      "WARNING: DEPRECATED: Chained inequalities are deprecated. Use the inequality()\n",
      "    function to express ranged inequality expressions.\n",
      "WARNING: DEPRECATED: Chained inequalities are deprecated. Use the inequality()\n",
      "    function to express ranged inequality expressions.\n",
      "WARNING: DEPRECATED: Chained inequalities are deprecated. Use the inequality()\n",
      "    function to express ranged inequality expressions.\n",
      "WARNING: DEPRECATED: Chained inequalities are deprecated. Use the inequality()\n",
      "    function to express ranged inequality expressions.\n",
      "WARNING: DEPRECATED: Chained inequalities are deprecated. Use the inequality()\n",
      "    function to express ranged inequality expressions.\n",
      "WARNING: DEPRECATED: Chained inequalities are deprecated. Use the inequality()\n",
      "    function to express ranged inequality expressions.\n",
      "WARNING: DEPRECATED: Chained inequalities are deprecated. Use the inequality()\n",
      "    function to express ranged inequality expressions.\n",
      "WARNING: DEPRECATED: Chained inequalities are deprecated. Use the inequality()\n",
      "    function to express ranged inequality expressions.\n",
      "WARNING: DEPRECATED: Chained inequalities are deprecated. Use the inequality()\n",
      "    function to express ranged inequality expressions.\n",
      "WARNING: DEPRECATED: Chained inequalities are deprecated. Use the inequality()\n",
      "    function to express ranged inequality expressions.\n",
      "WARNING: DEPRECATED: Chained inequalities are deprecated. Use the inequality()\n",
      "    function to express ranged inequality expressions.\n",
      "WARNING: DEPRECATED: Chained inequalities are deprecated. Use the inequality()\n",
      "    function to express ranged inequality expressions.\n",
      "WARNING: DEPRECATED: Chained inequalities are deprecated. Use the inequality()\n",
      "    function to express ranged inequality expressions.\n",
      "WARNING: DEPRECATED: Chained inequalities are deprecated. Use the inequality()\n",
      "    function to express ranged inequality expressions.\n",
      "WARNING: DEPRECATED: Chained inequalities are deprecated. Use the inequality()\n",
      "    function to express ranged inequality expressions.\n",
      "WARNING: DEPRECATED: Chained inequalities are deprecated. Use the inequality()\n",
      "    function to express ranged inequality expressions.\n",
      "WARNING: DEPRECATED: Chained inequalities are deprecated. Use the inequality()\n",
      "    function to express ranged inequality expressions.\n",
      "WARNING: DEPRECATED: Chained inequalities are deprecated. Use the inequality()\n",
      "    function to express ranged inequality expressions.\n",
      "WARNING: DEPRECATED: Chained inequalities are deprecated. Use the inequality()\n",
      "    function to express ranged inequality expressions.\n",
      "WARNING: DEPRECATED: Chained inequalities are deprecated. Use the inequality()\n",
      "    function to express ranged inequality expressions.\n",
      "WARNING: DEPRECATED: Chained inequalities are deprecated. Use the inequality()\n",
      "    function to express ranged inequality expressions.\n",
      "WARNING: DEPRECATED: Chained inequalities are deprecated. Use the inequality()\n",
      "    function to express ranged inequality expressions.\n",
      "WARNING: DEPRECATED: Chained inequalities are deprecated. Use the inequality()\n",
      "    function to express ranged inequality expressions.\n"
     ]
    }
   ],
   "source": [
    "\n",
    "\n",
    "# declare constraints\n",
    "## Power flow balancing b/w a generator and attached demand center(s) :\n",
    "model.con1 = Constraint(expr = model.x[0] == model.y[0])\n",
    "model.con2 = Constraint(expr = model.x[1] == model.y[1] )\n",
    "model.con3 = Constraint(expr = model.x[2] == model.y[2])\n",
    "model.con4 = Constraint(expr = model.x[3] == model.y[3])\n",
    "model.con5 = Constraint(expr = model.x[4] == model.y[4])    \n",
    "model.con6 = Constraint(expr = model.x[5] == model.y[5] + model.y[6])\n",
    "model.con7 = Constraint(expr = model.x[6] == model.y[7])\n",
    "model.con8 = Constraint(expr = model.x[7] == model.y[8])\n",
    "model.con9 = Constraint(expr = model.x[8] == model.y[9])\n",
    "model.con10 = Constraint(expr = model.x[9] == model.y[10])\n",
    "model.con11 = Constraint(expr = model.x[10] == model.y[11])\n",
    "model.con12 = Constraint(expr = model.x[11] == model.y[12])\n",
    "model.con13 = Constraint(expr = model.x[12] == model.y[13])\n",
    "\n",
    "\n",
    "\n",
    "\n",
    "## Boundary conditions for generation by each generator :\n",
    "model.con14 = Constraint(expr = 226 <= model.x[0] <= 452)\n",
    "\n",
    "\n",
    "\n",
    "model.con15 = Constraint(expr = 814 <= model.x[1] <= 1627 )\n",
    "model.con16 = Constraint(expr = 69 <= model.x[2] <= 230 )\n",
    "model.con17 = Constraint(expr = 101 <= model.x[3] <= 202 )\n",
    "model.con18 = Constraint(expr = 80 <= model.x[4] <= 200 )\n",
    "model.con19 = Constraint(expr = model.x[5] == 0)\n",
    "model.con20 = Constraint(expr = 139 <= model.x[6] <= 278)\n",
    "model.con21 = Constraint(expr = 198 <= model.x[7] <= 396 )\n",
    "model.con22 = Constraint(expr = 0 <= model.x[8] <= 230 )\n",
    "model.con23 = Constraint(expr = 0 <= model.x[9] <= 10 )\n",
    "model.con24 = Constraint(expr = model.x[10] == 0)\n",
    "model.con25 = Constraint(expr = 0 <= model.x[11] <= 60 )\n",
    "model.con26 = Constraint(expr = 493 <= model.x[12] <= 985 )\n",
    "\n",
    "\n",
    "\n",
    "## Transmission constraints @ each transmission route :\n",
    "model.con27 = Constraint(expr = 0 <= model.y[0] <= 1000)\n",
    "model.con28 = Constraint(expr = 0 <= model.y[1] <= 1000 )\n",
    "model.con29 = Constraint(expr = 0 <= model.y[2] <= 1000 )\n",
    "model.con30 = Constraint(expr = 0 <= model.y[3] <= 1000 )\n",
    "model.con31 = Constraint(expr = 0 <= model.y[4] <= 1000 )\n",
    "model.con32 = Constraint(expr = 0 <= model.y[5] <= 1000)\n",
    "model.con33 = Constraint(expr = 0 <= model.y[6] <= 1000)\n",
    "model.con34 = Constraint(expr = 0 <= model.y[7] <= 1000 )\n",
    "model.con35 = Constraint(expr = 0 <= model.y[8] <= 1000 )\n",
    "model.con36 = Constraint(expr = 0 <= model.y[9] <= 1000 )\n",
    "model.con37 = Constraint(expr = 0 <= model.y[10] <= 1000)\n",
    "model.con38 = Constraint(expr = 0 <= model.y[11] <= 1000 )\n",
    "model.con39 = Constraint(expr = 0 <= model.y[12] <= 1000 )\n",
    "model.con40 = Constraint(expr = 0 <= model.y[13] <= 1000)\n",
    "model.con41 = Constraint(expr = model.y[14] <= 1000)\n",
    "model.con42 = Constraint(expr = model.y[15] <= 1000)\n",
    "model.con43 = Constraint(expr = model.y[16] <= 1000)\n",
    "model.con44 = Constraint(expr = model.y[17] <= 1000)\n",
    "model.con45 = Constraint(expr = model.y[18] <= 1000)\n",
    "model.con46 = Constraint(expr = model.y[19] <= 1000)\n",
    "model.con47 = Constraint(expr = model.y[20] <= 1000)\n",
    "model.con48 = Constraint(expr = model.y[21] <= 1000)\n",
    "model.con49 = Constraint(expr = model.y[22] <= 1000)\n",
    "model.con50 = Constraint(expr = model.y[23] <= 1000)\n",
    "model.con51 = Constraint(expr = model.y[24] <= 1000)\n",
    "model.con52 = Constraint(expr = model.y[25] <= 1000)\n",
    "\n",
    "## Node balancing constraints - incoming & outgoing :\n",
    "model.con53 = Constraint(expr =  model.y[0] + model.y[4] - model.y[14] == 291)\n",
    "model.con54 = Constraint(expr =  model.y[5] + model.y[7] + model.y[14] - model.y[15] + model.y[18] == 411)\n",
    "model.con55 = Constraint(expr =  model.y[6] + model.y[13] + model.y[1] + model.y[15] + model.y[16] + model.y[17] + model.y[19] == 761)\n",
    "model.con56 = Constraint(expr =  model.y[8] + model.y[3] - model.y[16] == 171)\n",
    "model.con57 = Constraint(expr =  model.y[9] + model.y[11] + model.y[12] - model.y[17] ==621  ) #470\n",
    "model.con58 = Constraint(expr =  model.y[10] + model.y[2] - model.y[18] - model.y[19] == 521  ) #521\n",
    "\n",
    "\n",
    "\n",
    "##Equating transmission between demand centers\n",
    "model.con59 = Constraint(expr =  model.y[14] ==  -model.y[20] ) \n",
    "model.con60 = Constraint(expr =  model.y[15] ==  -model.y[21] ) \n",
    "model.con61 = Constraint(expr =  model.y[16] ==  -model.y[22] ) \n",
    "model.con62 = Constraint(expr =  model.y[17] ==  -model.y[23] ) \n",
    "model.con63 = Constraint(expr =  model.y[18] ==  -model.y[24] ) \n",
    "model.con64 = Constraint(expr =  model.y[19] ==  -model.y[25] ) \n"
   ]
  },
  {
   "cell_type": "code",
   "execution_count": 13,
   "metadata": {},
   "outputs": [
    {
     "name": "stdout",
     "output_type": "stream",
     "text": [
      "# ==========================================================\n",
      "# = Solver Results                                         =\n",
      "# ==========================================================\n",
      "# ----------------------------------------------------------\n",
      "#   Problem Information\n",
      "# ----------------------------------------------------------\n",
      "Problem: \n",
      "- Lower bound: -inf\n",
      "  Upper bound: inf\n",
      "  Number of objectives: 1\n",
      "  Number of constraints: 0\n",
      "  Number of variables: 39\n",
      "  Sense: unknown\n",
      "# ----------------------------------------------------------\n",
      "#   Solver Information\n",
      "# ----------------------------------------------------------\n",
      "Solver: \n",
      "- Status: ok\n",
      "  Message: bonmin\\x3a Optimal\n",
      "  Termination condition: optimal\n",
      "  Id: 3\n",
      "  Error rc: 0\n",
      "  Time: 0.03786444664001465\n",
      "# ----------------------------------------------------------\n",
      "#   Solution Information\n",
      "# ----------------------------------------------------------\n",
      "Solution: \n",
      "- number of solutions: 0\n",
      "  number of solutions displayed: 0\n"
     ]
    }
   ],
   "source": [
    "SolverFactory('bonmin', executable='bonmin').solve(model).write()"
   ]
  },
  {
   "cell_type": "code",
   "execution_count": 14,
   "metadata": {},
   "outputs": [],
   "source": [
    "generator = []\n",
    "\n",
    "for i in range(13):\n",
    "    generator.append(model.x[i].value)\n",
    "    \n",
    "    \n",
    "power_transfer = []\n",
    "\n",
    "for j in range(13):\n",
    "    power_transfer.append(model.y[j].value)"
   ]
  },
  {
   "cell_type": "markdown",
   "metadata": {},
   "source": [
    "## optimal power genration by 13 genrators in the system"
   ]
  },
  {
   "cell_type": "code",
   "execution_count": 15,
   "metadata": {},
   "outputs": [
    {
     "data": {
      "text/plain": [
       "[225.9999977400008,\n",
       " 813.999991878388,\n",
       " 68.99999931000487,\n",
       " 100.9999989928289,\n",
       " 79.99999920002037,\n",
       " 0.0,\n",
       " 138.99999861408622,\n",
       " 197.9999980236776,\n",
       " 230.00000229997457,\n",
       " 10.000000099974418,\n",
       " 0.0,\n",
       " 60.00000059997433,\n",
       " 849.0000132410703]"
      ]
     },
     "execution_count": 15,
     "metadata": {},
     "output_type": "execute_result"
    }
   ],
   "source": [
    "generator"
   ]
  }
 ],
 "metadata": {
  "kernelspec": {
   "display_name": "Python 3",
   "language": "python",
   "name": "python3"
  },
  "language_info": {
   "codemirror_mode": {
    "name": "ipython",
    "version": 3
   },
   "file_extension": ".py",
   "mimetype": "text/x-python",
   "name": "python",
   "nbconvert_exporter": "python",
   "pygments_lexer": "ipython3",
   "version": "3.7.4"
  }
 },
 "nbformat": 4,
 "nbformat_minor": 2
}
